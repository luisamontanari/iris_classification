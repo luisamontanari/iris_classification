{
 "cells": [
  {
   "cell_type": "code",
   "execution_count": 1,
   "id": "0bf23b79",
   "metadata": {},
   "outputs": [],
   "source": [
    "import pandas as pd\n",
    "import numpy as np\n",
    "%matplotlib inline"
   ]
  },
  {
   "cell_type": "markdown",
   "id": "598a2001",
   "metadata": {},
   "source": [
    "# Decision Tree\n",
    "Determine threshold values for sepal.length, sepal.width, petal.length and petal.width that make it more likely for the data point to be of a specific iris variety. Useful Link: https://www.youtube.com/watch?v=_L39rN6gz7Y\n",
    "Steps:\n",
    "    1. determine which feature is most \"meaningful\", this should evaluated at the root --> Gini impurity (other methods: Entropy, Information Gain)"
   ]
  },
  {
   "cell_type": "markdown",
   "id": "494f10c1",
   "metadata": {},
   "source": [
    "## Gini Impurity for numerical data\n",
    " \n",
    "formula:\n",
    "gini impurity for a leaf = 1-P(Yes)^2-P(No)^2"
   ]
  },
  {
   "cell_type": "code",
   "execution_count": null,
   "id": "332f16f3",
   "metadata": {},
   "outputs": [],
   "source": [
    "import os"
   ]
  },
  {
   "cell_type": "code",
   "execution_count": 3,
   "id": "09a5b6e6",
   "metadata": {},
   "outputs": [],
   "source": [
    "def calc_gini_impurity(df, feature, variety) : \n",
    "    min_gini = 1\n",
    "    threshold = 0\n",
    "    direction = 'none'\n",
    "    for i in range(df.shape[0]-1) :\n",
    "        # step 1: calculate average between pairs in the sorted feature column as potential thresholds\n",
    "        #feature_idx= df[feature]\n",
    "        #print(i, feature, feature_idx)\n",
    "        avg = (df[feature].iloc[i] + df[feature].iloc[i+1])/2\n",
    "    \n",
    "        # step 2: separate df by threshold\n",
    "        left_branch = df[df[feature] < avg]\n",
    "        right_branch = df[df[feature] >= avg]\n",
    "        \n",
    "        #print(left_branch.shape[0], right_branch.shape[0])\n",
    "        if left_branch.shape[0] == 0 or right_branch.shape[0] == 0: continue\n",
    "    \n",
    "        # step 3: separate branches by variety (yes/no)\n",
    "        l_vc_yes = left_branch[left_branch['variety'] == variety].shape[0]\n",
    "        r_vc_yes = right_branch[right_branch['variety'] == variety].shape[0]\n",
    "    \n",
    "        l_vc_no = left_branch.shape[0] - l_vc_yes\n",
    "        r_vc_no = right_branch.shape[0] - r_vc_yes\n",
    "    \n",
    "        # step 5 calculate Gini Impurity\n",
    "        gini_left = 1 - (l_vc_yes/left_branch.shape[0])**2 - (l_vc_no/left_branch.shape[0])**2\n",
    "        gini_right = 1 - (r_vc_yes/right_branch.shape[0])**2 - (r_vc_no/right_branch.shape[0])**2\n",
    "    \n",
    "        total_gini = (left_branch.shape[0]/df.shape[0]) * gini_left + (right_branch.shape[0]/df.shape[0]) * gini_right\n",
    "        if total_gini < min_gini : \n",
    "            min_gini = total_gini\n",
    "            threshold = avg\n",
    "            if l_vc_yes > r_vc_yes : direction = 'left'\n",
    "            else : direction = 'right'\n",
    "    \n",
    "    return(min_gini, threshold, direction) #l_g, r_g, l_yes, r_yes, l_no, r_no)"
   ]
  },
  {
   "cell_type": "code",
   "execution_count": null,
   "id": "c9537f90",
   "metadata": {},
   "outputs": [],
   "source": [
    "def print_gini_values(df) : \n",
    "    for variety in df['variety'].unique(): \n",
    "    print(f'\\n{variety}:')\n",
    "    for feature in df.columns[:-1]:\n",
    "        print(f'Gini for {feature}: {calc_gini_impurity(df, feature, variety)}')\n",
    "    return"
   ]
  }
 ],
 "metadata": {
  "kernelspec": {
   "display_name": "Python 3 (ipykernel)",
   "language": "python",
   "name": "python3"
  },
  "language_info": {
   "codemirror_mode": {
    "name": "ipython",
    "version": 3
   },
   "file_extension": ".py",
   "mimetype": "text/x-python",
   "name": "python",
   "nbconvert_exporter": "python",
   "pygments_lexer": "ipython3",
   "version": "3.11.1"
  }
 },
 "nbformat": 4,
 "nbformat_minor": 5
}
